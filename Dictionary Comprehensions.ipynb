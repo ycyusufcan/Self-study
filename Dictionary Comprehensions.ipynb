{
 "cells": [
  {
   "cell_type": "markdown",
   "metadata": {},
   "source": [
    "# Dict comprehensions\n",
    "\n",
    "Pretty much like list comprehensions, **dict comprehensions** make creating dictionaries fast and easy."
   ]
  },
  {
   "cell_type": "code",
   "execution_count": 1,
   "metadata": {},
   "outputs": [
    {
     "data": {
      "text/plain": [
       "{1: 1, 2: 4, 3: 9}"
      ]
     },
     "execution_count": 1,
     "metadata": {},
     "output_type": "execute_result"
    }
   ],
   "source": [
    "{i: i**2 for i in range(1, 4)}"
   ]
  },
  {
   "cell_type": "code",
   "execution_count": 2,
   "metadata": {},
   "outputs": [
    {
     "data": {
      "text/plain": [
       "{'Liverpool': 3, 'Galatasaray': 1, 'CSKA Moscow': 1, 'Levski Sofia': 0}"
      ]
     },
     "execution_count": 2,
     "metadata": {},
     "output_type": "execute_result"
    }
   ],
   "source": [
    "teams = ['Liverpool', 'Galatasaray', 'CSKA Moscow', 'Levski Sofia']\n",
    "points = [3, 1, 1, 0]\n",
    "\n",
    "{team: point for team, point in zip(teams, points)}"
   ]
  },
  {
   "cell_type": "markdown",
   "metadata": {},
   "source": [
    "Note: `dict()` and `zip` can also be directly used to create simple dictionaries like above."
   ]
  },
  {
   "cell_type": "code",
   "execution_count": 3,
   "metadata": {},
   "outputs": [
    {
     "data": {
      "text/plain": [
       "{'Liverpool': 3, 'Galatasaray': 1, 'CSKA Moscow': 1, 'Levski Sofia': 0}"
      ]
     },
     "execution_count": 3,
     "metadata": {},
     "output_type": "execute_result"
    }
   ],
   "source": [
    "dict(zip(teams, points))"
   ]
  },
  {
   "cell_type": "markdown",
   "metadata": {},
   "source": [
    "Nested dict comprehensions are also allowed:\n",
    "- Given the leaderboard lists of Group D, create a data structure using dictionaries."
   ]
  },
  {
   "cell_type": "code",
   "execution_count": 4,
   "metadata": {},
   "outputs": [
    {
     "data": {
      "text/plain": [
       "{'Juventus': {'Played': 6, 'Won': 1, 'Drawn': 5, 'Lost': 0},\n",
       " 'Galatasaray': {'Played': 6, 'Won': 2, 'Drawn': 2, 'Lost': 2},\n",
       " 'Rosenborg': {'Played': 6, 'Won': 2, 'Drawn': 2, 'Lost': 2},\n",
       " 'Athletico Bilbao': {'Played': 6, 'Won': 1, 'Drawn': 3, 'Lost': 2}}"
      ]
     },
     "execution_count": 4,
     "metadata": {},
     "output_type": "execute_result"
    }
   ],
   "source": [
    "teams = ['Juventus', 'Galatasaray', 'Rosenborg', 'Athletico Bilbao']\n",
    "\n",
    "played = [6, 6, 6, 6]\n",
    "won = [1, 2, 2, 1]\n",
    "drawn = [5, 2, 2, 3]\n",
    "lost = [0, 2, 2, 2]\n",
    "\n",
    "{team:{'Played':p,\n",
    "       'Won':w,\n",
    "       'Drawn':d,\n",
    "       'Lost':l} for team, p, w, d, l in zip(teams, played, won, drawn, lost)}"
   ]
  },
  {
   "cell_type": "markdown",
   "metadata": {},
   "source": [
    "- Add a calculated field, `'Points'` to the dictionary comprehension above."
   ]
  },
  {
   "cell_type": "code",
   "execution_count": 5,
   "metadata": {},
   "outputs": [],
   "source": [
    "leaderboard = {team:{'Played':p,\n",
    "                       'Won':w,\n",
    "                       'Drawn':d,\n",
    "                       'Lost':l,\n",
    "                        # add your calculated statement here\n",
    "                      } for team, p, w, d, l in zip(teams, played, won, drawn, lost)}"
   ]
  },
  {
   "cell_type": "markdown",
   "metadata": {},
   "source": [
    "Filtering the dictionaries is also possible using dict comprehensions.\n",
    "- Filter out the marks less than 50."
   ]
  },
  {
   "cell_type": "code",
   "execution_count": 6,
   "metadata": {},
   "outputs": [
    {
     "data": {
      "text/plain": [
       "{'Bado': 52, 'Semih': 75}"
      ]
     },
     "execution_count": 6,
     "metadata": {},
     "output_type": "execute_result"
    }
   ],
   "source": [
    "marks = {\"Bado\":52, \"Semih\":75, \"Ahmet\":44, \"Cesar\":32}\n",
    "\n",
    "{k:v for k,v in marks.items() if v > 50}"
   ]
  },
  {
   "cell_type": "markdown",
   "metadata": {},
   "source": [
    "- Select only the students whose names start with A-H.  \n",
    "Hint:"
   ]
  },
  {
   "cell_type": "code",
   "execution_count": 7,
   "metadata": {},
   "outputs": [
    {
     "name": "stdout",
     "output_type": "stream",
     "text": [
      "65\n",
      "72\n",
      "False\n"
     ]
    }
   ],
   "source": [
    "print(ord('A'))\n",
    "print(ord('H'))\n",
    "print(ord('Semih'[0]) <= ord('H'))"
   ]
  },
  {
   "cell_type": "code",
   "execution_count": 8,
   "metadata": {},
   "outputs": [
    {
     "data": {
      "text/plain": [
       "True"
      ]
     },
     "execution_count": 8,
     "metadata": {},
     "output_type": "execute_result"
    }
   ],
   "source": [
    "'Ahhhhsdgfnfkgnkfgnkjd'<'Am'"
   ]
  },
  {
   "cell_type": "markdown",
   "metadata": {},
   "source": [
    "- Create a dictionary of teams having at least 6 points in Group D (`leaderboard`)"
   ]
  },
  {
   "cell_type": "code",
   "execution_count": 9,
   "metadata": {},
   "outputs": [
    {
     "data": {
      "text/plain": [
       "{'Juventus': {'Played': 33, 'Won': 1, 'Drawn': 5, 'Lost': 0, 'Points': 33},\n",
       " 'Galatasaray': {'Played': 14, 'Won': 2, 'Drawn': 2, 'Lost': 2, 'Points': 14},\n",
       " 'Rosenborg': {'Played': 5, 'Won': 2, 'Drawn': 2, 'Lost': 2, 'Points': 5},\n",
       " 'Athletico Bilbao': {'Played': 5,\n",
       "  'Won': 1,\n",
       "  'Drawn': 3,\n",
       "  'Lost': 2,\n",
       "  'Points': 5}}"
      ]
     },
     "execution_count": 9,
     "metadata": {},
     "output_type": "execute_result"
    }
   ],
   "source": [
    "teams = ['Juventus', 'Galatasaray', 'Rosenborg', 'Athletico Bilbao']\n",
    "played = [6, 6, 6, 6]\n",
    "won = [1, 2, 2, 1]\n",
    "drawn = [5, 2, 2, 3]\n",
    "lost = [0, 2, 2, 2]\n",
    "points= [33,14,5,5]\n",
    "\n",
    "leaderboard={team:{\"Played\":p,\"Won\":w, \"Drawn\":d,\"Lost\":l,\"Points\":p} for team, p, w, d, l, p in\n",
    " zip(teams,played,won,drawn,lost,points)}\n",
    "leaderboard"
   ]
  },
  {
   "cell_type": "code",
   "execution_count": 10,
   "metadata": {},
   "outputs": [
    {
     "data": {
      "text/plain": [
       "{'Juventus': {'Played': 33, 'Won': 1, 'Drawn': 5, 'Lost': 0, 'Points': 33},\n",
       " 'Athletico Bilbao': {'Played': 5,\n",
       "  'Won': 1,\n",
       "  'Drawn': 3,\n",
       "  'Lost': 2,\n",
       "  'Points': 5}}"
      ]
     },
     "execution_count": 10,
     "metadata": {},
     "output_type": "execute_result"
    }
   ],
   "source": [
    "{k:v for k,v in leaderboard.items() if v[\"Drawn\"]>=3}"
   ]
  },
  {
   "cell_type": "code",
   "execution_count": 11,
   "metadata": {},
   "outputs": [
    {
     "data": {
      "text/plain": [
       "{'Juventus': 33, 'Galatasaray': 14}"
      ]
     },
     "execution_count": 11,
     "metadata": {},
     "output_type": "execute_result"
    }
   ],
   "source": [
    "{team:po for team, po in zip(teams,points) if po>6}"
   ]
  }
 ],
 "metadata": {
  "kernelspec": {
   "display_name": "Python 3",
   "language": "python",
   "name": "python3"
  },
  "language_info": {
   "codemirror_mode": {
    "name": "ipython",
    "version": 3
   },
   "file_extension": ".py",
   "mimetype": "text/x-python",
   "name": "python",
   "nbconvert_exporter": "python",
   "pygments_lexer": "ipython3",
   "version": "3.7.3"
  }
 },
 "nbformat": 4,
 "nbformat_minor": 2
}
